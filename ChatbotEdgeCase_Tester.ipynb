{
  "nbformat": 4,
  "nbformat_minor": 0,
  "metadata": {
    "colab": {
      "provenance": [],
      "authorship_tag": "ABX9TyMm3YJ3VEhlrgmNLfT4NqO8",
      "include_colab_link": true
    },
    "kernelspec": {
      "name": "python3",
      "display_name": "Python 3"
    },
    "language_info": {
      "name": "python"
    }
  },
  "cells": [
    {
      "cell_type": "markdown",
      "metadata": {
        "id": "view-in-github",
        "colab_type": "text"
      },
      "source": [
        "<a href=\"https://colab.research.google.com/github/Dur-jaya/Googlecollab/blob/main/ChatbotEdgeCase_Tester.ipynb\" target=\"_parent\"><img src=\"https://colab.research.google.com/assets/colab-badge.svg\" alt=\"Open In Colab\"/></a>"
      ]
    },
    {
      "cell_type": "code",
      "execution_count": 3,
      "metadata": {
        "id": "IOrrd189eG73"
      },
      "outputs": [],
      "source": [
        "import random\n",
        "import time\n",
        "import csv\n"
      ]
    },
    {
      "cell_type": "code",
      "source": [
        "def simulated_chatbot_response(user_input):\n",
        "    fallback_responses = [\n",
        "        \"Sorry, I didn’t understand that.\",\n",
        "        \"Can you rephrase?\",\n",
        "        \"I’m not sure what you mean.\"\n",
        "    ]\n",
        "    known_responses = {\n",
        "        \"hi\": \"Hello! How can I help you?\",\n",
        "        \"bye\": \"Goodbye!\",\n",
        "        \"help\": \"Sure, I’m here to assist you.\"\n",
        "    }\n",
        "    cleaned_input = user_input.lower().strip()\n",
        "    return known_responses.get(cleaned_input, random.choice(fallback_responses))\n",
        "\n",
        "\n"
      ],
      "metadata": {
        "id": "paeGcpOPeIju"
      },
      "execution_count": 4,
      "outputs": []
    },
    {
      "cell_type": "code",
      "source": [
        "test_inputs = [\n",
        "    \"hi\", \"BYE\", \"hiiiiii\", \"yo wassup\", \"???\",\n",
        "    \"\", \"help\", \"asdfgh\", \"123456\", \"cancel the order now!\"\n",
        "]\n"
      ],
      "metadata": {
        "id": "E2wYevtbetS-"
      },
      "execution_count": 5,
      "outputs": []
    },
    {
      "cell_type": "code",
      "source": [
        "print(\"Running chatbot test...\\n\")\n",
        "log = []\n",
        "\n",
        "for i, message in enumerate(test_inputs):\n",
        "    response = simulated_chatbot_response(message)\n",
        "    is_fallback = response in [\n",
        "        \"Sorry, I didn’t understand that.\",\n",
        "        \"Can you rephrase?\",\n",
        "        \"I’m not sure what you mean.\"\n",
        "    ]\n",
        "    result = {\n",
        "        \"Test #\": i + 1,\n",
        "        \"Input\": message,\n",
        "        \"Response\": response,\n",
        "        \"Fallback Triggered\": is_fallback\n",
        "    }\n",
        "    log.append(result)\n",
        "    print(result)\n",
        "    time.sleep(0.5)\n"
      ],
      "metadata": {
        "colab": {
          "base_uri": "https://localhost:8080/"
        },
        "id": "Ik_CzuephLdS",
        "outputId": "368e2f68-576b-4e0b-9ee4-b9296cfd9e42"
      },
      "execution_count": 6,
      "outputs": [
        {
          "output_type": "stream",
          "name": "stdout",
          "text": [
            "Running chatbot test...\n",
            "\n",
            "{'Test #': 1, 'Input': 'hi', 'Response': 'Hello! How can I help you?', 'Fallback Triggered': False}\n",
            "{'Test #': 2, 'Input': 'BYE', 'Response': 'Goodbye!', 'Fallback Triggered': False}\n",
            "{'Test #': 3, 'Input': 'hiiiiii', 'Response': 'Sorry, I didn’t understand that.', 'Fallback Triggered': True}\n",
            "{'Test #': 4, 'Input': 'yo wassup', 'Response': 'Sorry, I didn’t understand that.', 'Fallback Triggered': True}\n",
            "{'Test #': 5, 'Input': '???', 'Response': 'I’m not sure what you mean.', 'Fallback Triggered': True}\n",
            "{'Test #': 6, 'Input': '', 'Response': 'Can you rephrase?', 'Fallback Triggered': True}\n",
            "{'Test #': 7, 'Input': 'help', 'Response': 'Sure, I’m here to assist you.', 'Fallback Triggered': False}\n",
            "{'Test #': 8, 'Input': 'asdfgh', 'Response': 'Sorry, I didn’t understand that.', 'Fallback Triggered': True}\n",
            "{'Test #': 9, 'Input': '123456', 'Response': 'Can you rephrase?', 'Fallback Triggered': True}\n",
            "{'Test #': 10, 'Input': 'cancel the order now!', 'Response': 'Can you rephrase?', 'Fallback Triggered': True}\n"
          ]
        }
      ]
    },
    {
      "cell_type": "code",
      "source": [
        "with open(\"chatbot_test_log.csv\", \"w\", newline=\"\") as file:\n",
        "    writer = csv.DictWriter(file, fieldnames=log[0].keys())\n",
        "    writer.writeheader()\n",
        "    writer.writerows(log)\n",
        "\n",
        "from google.colab import files\n",
        "files.download(\"chatbot_test_log.csv\")\n"
      ],
      "metadata": {
        "colab": {
          "base_uri": "https://localhost:8080/",
          "height": 17
        },
        "id": "erxnDHQahPFi",
        "outputId": "0ca4a6b4-c3a1-4966-c8d5-8de2c26c3d1f"
      },
      "execution_count": 7,
      "outputs": [
        {
          "output_type": "display_data",
          "data": {
            "text/plain": [
              "<IPython.core.display.Javascript object>"
            ],
            "application/javascript": [
              "\n",
              "    async function download(id, filename, size) {\n",
              "      if (!google.colab.kernel.accessAllowed) {\n",
              "        return;\n",
              "      }\n",
              "      const div = document.createElement('div');\n",
              "      const label = document.createElement('label');\n",
              "      label.textContent = `Downloading \"${filename}\": `;\n",
              "      div.appendChild(label);\n",
              "      const progress = document.createElement('progress');\n",
              "      progress.max = size;\n",
              "      div.appendChild(progress);\n",
              "      document.body.appendChild(div);\n",
              "\n",
              "      const buffers = [];\n",
              "      let downloaded = 0;\n",
              "\n",
              "      const channel = await google.colab.kernel.comms.open(id);\n",
              "      // Send a message to notify the kernel that we're ready.\n",
              "      channel.send({})\n",
              "\n",
              "      for await (const message of channel.messages) {\n",
              "        // Send a message to notify the kernel that we're ready.\n",
              "        channel.send({})\n",
              "        if (message.buffers) {\n",
              "          for (const buffer of message.buffers) {\n",
              "            buffers.push(buffer);\n",
              "            downloaded += buffer.byteLength;\n",
              "            progress.value = downloaded;\n",
              "          }\n",
              "        }\n",
              "      }\n",
              "      const blob = new Blob(buffers, {type: 'application/binary'});\n",
              "      const a = document.createElement('a');\n",
              "      a.href = window.URL.createObjectURL(blob);\n",
              "      a.download = filename;\n",
              "      div.appendChild(a);\n",
              "      a.click();\n",
              "      div.remove();\n",
              "    }\n",
              "  "
            ]
          },
          "metadata": {}
        },
        {
          "output_type": "display_data",
          "data": {
            "text/plain": [
              "<IPython.core.display.Javascript object>"
            ],
            "application/javascript": [
              "download(\"download_5765b34f-d382-4603-ad3b-f02afc442d96\", \"chatbot_test_log.csv\", 462)"
            ]
          },
          "metadata": {}
        }
      ]
    },
    {
      "cell_type": "code",
      "source": [
        "# Simulated chatbot function\n",
        "def simulated_chatbot_response(user_input):\n",
        "    fallback_responses = [\n",
        "        \"Sorry, I didn’t understand that.\",\n",
        "        \"Can you rephrase?\",\n",
        "        \"I’m not sure what you mean.\"\n",
        "    ]\n",
        "    known_responses = {\n",
        "        \"hi\": \"Hello! How can I help you?\",\n",
        "        \"bye\": \"Goodbye!\",\n",
        "        \"help\": \"Sure, I’m here to assist you.\"\n",
        "    }\n",
        "\n",
        "    cleaned_input = user_input.lower().strip()\n",
        "    if cleaned_input in known_responses:\n",
        "        return known_responses[cleaned_input]\n",
        "    else:\n",
        "        return random.choice(fallback_responses)\n"
      ],
      "metadata": {
        "id": "GMoeg-n8hgpH"
      },
      "execution_count": 8,
      "outputs": []
    },
    {
      "cell_type": "code",
      "source": [
        "# List of test inputs (normal + edge cases)\n",
        "test_inputs = [\n",
        "    \"hi\",            # known\n",
        "    \"BYE\",           # known but different case\n",
        "    \"hiiiiii\",       # edge case\n",
        "    \"yo wassup\",     # edge case\n",
        "    \"???\",           # edge case\n",
        "    \"\",              # empty input\n",
        "    \"help\",          # known\n",
        "    \"asdfgh\",        # gibberish\n",
        "    \"123456\",        # number only\n",
        "    \"cancel the order now!\"  # mixed intent\n",
        "]\n"
      ],
      "metadata": {
        "id": "e8SCqbuah3bg"
      },
      "execution_count": 9,
      "outputs": []
    },
    {
      "cell_type": "code",
      "source": [
        "# Run the tests\n",
        "print(\"Running chatbot test...\\n\")\n",
        "log = []\n",
        "\n",
        "for i, message in enumerate(test_inputs):\n",
        "    response = simulated_chatbot_response(message)\n",
        "    is_fallback = response in [\n",
        "        \"Sorry, I didn’t understand that.\",\n",
        "        \"Can you rephrase?\",\n",
        "        \"I’m not sure what you mean.\"\n",
        "    ]\n",
        "    result = {\n",
        "        \"Test #\": i + 1,\n",
        "        \"Input\": message,\n",
        "        \"Response\": response,\n",
        "        \"Fallback Triggered\": is_fallback\n",
        "    }\n",
        "    log.append(result)\n",
        "    print(result)\n",
        "    time.sleep(0.5)  # Simulate delay\n"
      ],
      "metadata": {
        "colab": {
          "base_uri": "https://localhost:8080/"
        },
        "id": "IFo_aZKgh7H_",
        "outputId": "e8aa7445-36b1-4439-db58-2917736fdd3f"
      },
      "execution_count": 10,
      "outputs": [
        {
          "output_type": "stream",
          "name": "stdout",
          "text": [
            "Running chatbot test...\n",
            "\n",
            "{'Test #': 1, 'Input': 'hi', 'Response': 'Hello! How can I help you?', 'Fallback Triggered': False}\n",
            "{'Test #': 2, 'Input': 'BYE', 'Response': 'Goodbye!', 'Fallback Triggered': False}\n",
            "{'Test #': 3, 'Input': 'hiiiiii', 'Response': 'Can you rephrase?', 'Fallback Triggered': True}\n",
            "{'Test #': 4, 'Input': 'yo wassup', 'Response': 'I’m not sure what you mean.', 'Fallback Triggered': True}\n",
            "{'Test #': 5, 'Input': '???', 'Response': 'Sorry, I didn’t understand that.', 'Fallback Triggered': True}\n",
            "{'Test #': 6, 'Input': '', 'Response': 'Can you rephrase?', 'Fallback Triggered': True}\n",
            "{'Test #': 7, 'Input': 'help', 'Response': 'Sure, I’m here to assist you.', 'Fallback Triggered': False}\n",
            "{'Test #': 8, 'Input': 'asdfgh', 'Response': 'Sorry, I didn’t understand that.', 'Fallback Triggered': True}\n",
            "{'Test #': 9, 'Input': '123456', 'Response': 'Can you rephrase?', 'Fallback Triggered': True}\n",
            "{'Test #': 10, 'Input': 'cancel the order now!', 'Response': 'I’m not sure what you mean.', 'Fallback Triggered': True}\n"
          ]
        }
      ]
    },
    {
      "cell_type": "code",
      "source": [
        "# Save to CSV\n",
        "with open(\"chatbot_test_log.csv\", \"w\", newline=\"\") as file:\n",
        "    writer = csv.DictWriter(file, fieldnames=log[0].keys())\n",
        "    writer.writeheader()\n",
        "    writer.writerows(log)\n",
        "\n",
        "print(\"\\n✅ Test Completed. Log saved as 'chatbot_test_log.csv'\")\n"
      ],
      "metadata": {
        "colab": {
          "base_uri": "https://localhost:8080/"
        },
        "id": "zwBgWheYh9jK",
        "outputId": "9decdc89-d848-4c84-8562-04b44d2f43c4"
      },
      "execution_count": 11,
      "outputs": [
        {
          "output_type": "stream",
          "name": "stdout",
          "text": [
            "\n",
            "✅ Test Completed. Log saved as 'chatbot_test_log.csv'\n"
          ]
        }
      ]
    },
    {
      "cell_type": "code",
      "source": [
        "from google.colab import files\n",
        "files.download(\"chatbot_test_log.csv\")\n"
      ],
      "metadata": {
        "colab": {
          "base_uri": "https://localhost:8080/",
          "height": 17
        },
        "id": "rmAtRsAOiBbb",
        "outputId": "519755af-c1d2-42bc-d22f-480f277eae18"
      },
      "execution_count": 12,
      "outputs": [
        {
          "output_type": "display_data",
          "data": {
            "text/plain": [
              "<IPython.core.display.Javascript object>"
            ],
            "application/javascript": [
              "\n",
              "    async function download(id, filename, size) {\n",
              "      if (!google.colab.kernel.accessAllowed) {\n",
              "        return;\n",
              "      }\n",
              "      const div = document.createElement('div');\n",
              "      const label = document.createElement('label');\n",
              "      label.textContent = `Downloading \"${filename}\": `;\n",
              "      div.appendChild(label);\n",
              "      const progress = document.createElement('progress');\n",
              "      progress.max = size;\n",
              "      div.appendChild(progress);\n",
              "      document.body.appendChild(div);\n",
              "\n",
              "      const buffers = [];\n",
              "      let downloaded = 0;\n",
              "\n",
              "      const channel = await google.colab.kernel.comms.open(id);\n",
              "      // Send a message to notify the kernel that we're ready.\n",
              "      channel.send({})\n",
              "\n",
              "      for await (const message of channel.messages) {\n",
              "        // Send a message to notify the kernel that we're ready.\n",
              "        channel.send({})\n",
              "        if (message.buffers) {\n",
              "          for (const buffer of message.buffers) {\n",
              "            buffers.push(buffer);\n",
              "            downloaded += buffer.byteLength;\n",
              "            progress.value = downloaded;\n",
              "          }\n",
              "        }\n",
              "      }\n",
              "      const blob = new Blob(buffers, {type: 'application/binary'});\n",
              "      const a = document.createElement('a');\n",
              "      a.href = window.URL.createObjectURL(blob);\n",
              "      a.download = filename;\n",
              "      div.appendChild(a);\n",
              "      a.click();\n",
              "      div.remove();\n",
              "    }\n",
              "  "
            ]
          },
          "metadata": {}
        },
        {
          "output_type": "display_data",
          "data": {
            "text/plain": [
              "<IPython.core.display.Javascript object>"
            ],
            "application/javascript": [
              "download(\"download_5af8bb23-ee20-401e-a2a4-2f5027689058\", \"chatbot_test_log.csv\", 455)"
            ]
          },
          "metadata": {}
        }
      ]
    },
    {
      "cell_type": "code",
      "source": [],
      "metadata": {
        "id": "lBlKc0TeiE5b"
      },
      "execution_count": null,
      "outputs": []
    }
  ]
}